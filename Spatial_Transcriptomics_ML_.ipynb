{
 "cells": [
  {
   "cell_type": "markdown",
   "metadata": {
    "id": "SidEHIKNFR1R"
   },
   "source": [
    "##### =========================================================================\n",
    "#### PART 0: Environment Setup and Package Installation\n",
    "##### =========================================================================\n",
    "#### Install all necessary Python packages\n",
    "##### ========================================================================="
   ]
  },
  {
   "cell_type": "code",
   "execution_count": null,
   "metadata": {
    "colab": {
     "base_uri": "https://localhost:8080/"
    },
    "id": "YsXT8uyQFRG5",
    "outputId": "98a36c2c-a2fb-4005-ed9e-072971fda39e"
   },
   "outputs": [],
   "source": [
    "!pip install scanpy squidpy numpy pandas matplotlib seaborn scikit-learn\n",
    "!pip3 install louvain igraph leidenalg\n",
    "!pip install gseapy"
   ]
  },
  {
   "cell_type": "markdown",
   "metadata": {
    "id": "NmpquatnFvtl"
   },
   "source": [
    "#### =======================================================================\n",
    "#### PART 1: Data Loading, Preprocessing, and Quality Control\n",
    "#### 1. Import Required Libraries\n",
    "#### ======================================================================="
   ]
  },
  {
   "cell_type": "code",
   "execution_count": null,
   "metadata": {
    "colab": {
     "base_uri": "https://localhost:8080/"
    },
    "id": "-wYgkNj7GXlO",
    "outputId": "cb1b894d-04f3-45ac-af08-c29de9f21e90"
   },
   "outputs": [],
   "source": [
    "import scanpy as sc\n",
    "import squidpy as sq\n",
    "import numpy as np\n",
    "import pandas as pd\n",
    "import matplotlib.pyplot as plt\n",
    "import seaborn as sns\n",
    "from sklearn.cluster import KMeans, Birch\n",
    "from sklearn.metrics import adjusted_rand_score, normalized_mutual_info_score\n",
    "import os\n",
    "\n",
    "# Create a folder to store the generated images.\n",
    "if not os.path.exists('figures'):\n",
    "    os.makedirs('figures')"
   ]
  },
  {
   "cell_type": "markdown",
   "metadata": {
    "id": "NugaSa4_HMEk"
   },
   "source": [
    "##### 2.Load the example dataset\n",
    "#####Use the Visium H&E stained mouse brain dataset provided by Squidpy."
   ]
  },
  {
   "cell_type": "code",
   "execution_count": null,
   "metadata": {
    "colab": {
     "base_uri": "https://localhost:8080/",
     "height": 1000,
     "referenced_widgets": [
      "e138278c288a4deb9c32369e6b993134",
      "baf9675b2dce43fd9e4831d7ae465ceb",
      "d7519047e4b34680afda38890aebf4e2",
      "1f33bf7e5105469c89d42b2c0a7df3e6",
      "d1cc4b534f4d4e31b1bb8112e2263a4c",
      "464e15c8d9d94eed8224c725adbe92fb",
      "d739f9bc45a84b6584a6b1dcec850093",
      "9cc538600f604029bfb43d4642d332d1",
      "3b701c6df5754854a0d8aec4f8c24c99",
      "aa96d433e1bf461d86bf3d28f4612c64",
      "f90cd44deb5c4a3f877ec4bb99e29cae"
     ]
    },
    "id": "jtq9dnbUHPlu",
    "outputId": "dcab9fae-1974-4b66-c245-960cc476e493"
   },
   "outputs": [],
   "source": [
    "adata = sq.datasets.visium_hne_adata()\n",
    "print(f\"Original data dimensions: {adata.shape}\")\n",
    "print(\"\\nObservation (spots) metadata (first 5 rows):\")\n",
    "print(adata.obs.head())\n",
    "print(\"\\nVariable (genes) metadata (first 5 rows):\")\n",
    "print(adata.var.head())"
   ]
  },
  {
   "cell_type": "markdown",
   "metadata": {
    "id": "26RuVg9tHUD5"
   },
   "source": [
    "##### 3.Visualize Ground Truth\n",
    "#####Use the 'cluster' column as the true labels to plot the spatial distribution map.\n",
    "#####This will generate an image showing the actual positions of different cell clusters on the tissue sample."
   ]
  },
  {
   "cell_type": "code",
   "execution_count": null,
   "metadata": {
    "colab": {
     "base_uri": "https://localhost:8080/",
     "height": 335
    },
    "id": "ROT2-R6jHbNG",
    "outputId": "95fff78f-e804-40cf-c5bf-5412d086008e"
   },
   "outputs": [],
   "source": [
    "print(\"\\nGenerating Ground Truth image...\")\n",
    "sq.pl.spatial_scatter(\n",
    "    adata,\n",
    "    color=\"cluster\",      # Specify the 'cluster' column as the color label\n",
    "    title=\"Ground Truth\", # Set the image title\n",
    "    figsize=(7, 7),       # Set the image size for clear display\n",
    "    save=\"_ground_truth_spatial.png\"\n",
    ")\n",
    "plt.show() # Display the image in Colab"
   ]
  },
  {
   "cell_type": "markdown",
   "metadata": {
    "id": "dwAsESLWHfXr"
   },
   "source": [
    "##### 4. Data Quality Control (QC) and Gene Expression Statistical Analysis"
   ]
  },
  {
   "cell_type": "code",
   "execution_count": null,
   "metadata": {
    "colab": {
     "base_uri": "https://localhost:8080/"
    },
    "id": "lR8X_18eHlBb",
    "outputId": "03786c74-7a76-44b8-a792-f4bd698b5d1c"
   },
   "outputs": [],
   "source": [
    "sc.pp.calculate_qc_metrics(adata, inplace=True)\n",
    "print(f\"\\nData dimensions before filtering: {adata.shape}\")\n",
    "sc.pp.filter_cells(adata, min_genes=200)\n",
    "sc.pp.filter_genes(adata, min_cells=3)\n",
    "print(f\"Data dimensions after filtering: {adata.shape}\")"
   ]
  },
  {
   "cell_type": "markdown",
   "metadata": {
    "id": "l1MI9DVKH1d7"
   },
   "source": [
    "##### Gene Expression Statistical Analysis (Violin Plot)"
   ]
  },
  {
   "cell_type": "code",
   "execution_count": null,
   "metadata": {
    "colab": {
     "base_uri": "https://localhost:8080/",
     "height": 559
    },
    "id": "5jAMVlNXH3BO",
    "outputId": "98f63e58-6b87-43db-bc67-bdc8e7e7e325"
   },
   "outputs": [],
   "source": [
    "print(\"\\n=== Gene Expression Statistical Analysis ===\")\n",
    "sc.pl.violin(adata, ['n_genes_by_counts', 'total_counts'],\n",
    "             jitter=0.4, multi_panel=True, save=\"_qc_violin_plots.png\")\n",
    "plt.show() # Display the image in Colab"
   ]
  },
  {
   "cell_type": "markdown",
   "metadata": {
    "id": "w36QQXLgS8Zs"
   },
   "source": [
    "##### ==============================================================================\n",
    "##### Spatial Autocorrelation Analysis\n",
    "##### =============================================================================="
   ]
  },
  {
   "cell_type": "code",
   "execution_count": null,
   "metadata": {
    "colab": {
     "base_uri": "https://localhost:8080/",
     "height": 1000,
     "referenced_widgets": [
      "ee85b6ec4e6f4f28bf6ed64375ec16a4",
      "7a59b8bcca214b4e9cb7d5823025594d",
      "202e56f5e92c4afaace0633fd1e5c0a4",
      "aab1da399845403ea5ce5a1b4d7d56a1",
      "d24ef344599b4c1d96504b0ec796232a",
      "9c01a6ca4f4d4889a2b718db78792039",
      "fd3cf321ecca4c5680bc0597e3032af6",
      "e59431f361754fb5883f5ca2289edce1",
      "b0c8e05393c34d80a08a6ee62f44141f",
      "ac53477d9aac445eadd3d2925d3cecea",
      "6dd8b4c3cc534b0184cd8efb8073dae8"
     ]
    },
    "id": "1lxUnBTBM5YY",
    "outputId": "e2b45eaf-d6f4-4161-a826-8a8446e40f5b"
   },
   "outputs": [],
   "source": [
    "import matplotlib.pyplot as plt\n",
    "\n",
    "print(\"\\nSpatial Autocorrelation Analysis)\")\n",
    "\n",
    "# First, calculate the spatial neighbors graph\n",
    "# This defines which spots are adjacent based on their physical distances\n",
    "sq.gr.spatial_neighbors(adata, coord_type=\"grid\", n_neighs=6)\n",
    "\n",
    "# Calculate Moran's I values for all highly variable genes\n",
    "# n_perms specifies the number of random permutations used to calculate the p-value; increasing this value improves accuracy but takes longer to compute\n",
    "sq.gr.spatial_autocorr(\n",
    "    adata,\n",
    "    mode=\"moran\",\n",
    "    genes=adata.var_names,\n",
    "    n_perms=100,\n",
    "    n_jobs=1,\n",
    ")\n",
    "\n",
    "# Examine the Moran's I results and identify the genes with the highest spatial autocorrelation\n",
    "moran_i_results = adata.uns[\"moranI\"]\n",
    "print(\"\\n--- Moran's I Analysis Results (Top 10 Genes with Highest Positive Correlation) ---\")\n",
    "print(moran_i_results.head(10))\n",
    "\n",
    "# Visualize the spatial expression patterns of the genes with the highest Moran's I values\n",
    "top_spatial_genes = moran_i_results.index[:4]\n",
    "print(f\"\\nVisualizing the spatial expression of genes: {list(top_spatial_genes)}...\")\n",
    "sc.pl.spatial(\n",
    "    adata,\n",
    "    color=top_spatial_genes,\n",
    "    ncols=2,\n",
    "    cmap=\"viridis\",\n",
    "    save=\"_top_spatial_genes.png\"\n",
    ")\n",
    "plt.show()"
   ]
  },
  {
   "cell_type": "markdown",
   "metadata": {
    "id": "lIuN9yU-H6M1"
   },
   "source": [
    "##### 5. Data Normalization, Feature Selection, and Dimensionality Reduction"
   ]
  },
  {
   "cell_type": "code",
   "execution_count": null,
   "metadata": {
    "colab": {
     "base_uri": "https://localhost:8080/"
    },
    "id": "wWeuSvnnIF73",
    "outputId": "8c518ca5-d4e8-4ad7-94b8-5169e187c3b0"
   },
   "outputs": [],
   "source": [
    "sc.pp.normalize_total(adata, target_sum=1e4)\n",
    "sc.pp.log1p(adata)\n",
    "sc.pp.highly_variable_genes(adata, min_mean=0.0125, max_mean=3, min_disp=0.5)\n",
    "adata = adata[:, adata.var.highly_variable]\n",
    "print(f\"\\nData dimensions after selecting highly variable genes: {adata.shape}\")"
   ]
  },
  {
   "cell_type": "markdown",
   "metadata": {
    "id": "ZTJQFIY4II5c"
   },
   "source": [
    "##### PCA"
   ]
  },
  {
   "cell_type": "code",
   "execution_count": null,
   "metadata": {
    "colab": {
     "base_uri": "https://localhost:8080/"
    },
    "id": "SfxgvZoSIMPb",
    "outputId": "e4967235-14ba-4019-a93d-8bd7f08f6d0a"
   },
   "outputs": [],
   "source": [
    "sc.tl.pca(adata, svd_solver='arpack')\n",
    "sc.pp.neighbors(adata, n_neighbors=10, n_pcs=40)\n",
    "sc.tl.umap(adata)"
   ]
  },
  {
   "cell_type": "markdown",
   "metadata": {
    "id": "HnShAB3XIPGF"
   },
   "source": [
    "##### ==============================================================================\n",
    "##### PART 2: Comparative Analysis of Multiple Clustering Methods\n",
    "##### =============================================================================="
   ]
  },
  {
   "cell_type": "markdown",
   "metadata": {
    "id": "pb92txzGIX93"
   },
   "source": [
    "##### a. Leiden Clustering"
   ]
  },
  {
   "cell_type": "code",
   "execution_count": null,
   "metadata": {
    "colab": {
     "base_uri": "https://localhost:8080/"
    },
    "id": "HghQka3YIcSb",
    "outputId": "56726f44-f917-4fb6-d1b9-a9e13507b54d"
   },
   "outputs": [],
   "source": [
    "print(\"\\n--- Performing Leiden Clustering ---\")\n",
    "sc.tl.leiden(adata, resolution=0.5, key_added=\"leiden\")"
   ]
  },
  {
   "cell_type": "markdown",
   "metadata": {
    "id": "Fn2GJqA4IgFS"
   },
   "source": [
    "##### b. K-Means Clustering"
   ]
  },
  {
   "cell_type": "code",
   "execution_count": null,
   "metadata": {
    "id": "pVbkG4X0IjBB"
   },
   "outputs": [],
   "source": [
    "kmeans = KMeans(n_clusters=len(adata.obs['cluster'].unique()), random_state=0, n_init=10).fit(adata.obsm['X_pca']) # n_init=10 is the new default\n",
    "adata.obs['kmeans'] = kmeans.labels_.astype(str)"
   ]
  },
  {
   "cell_type": "markdown",
   "metadata": {
    "id": "DECtCaCuImFH"
   },
   "source": [
    "##### c. Louvain Clustering"
   ]
  },
  {
   "cell_type": "code",
   "execution_count": null,
   "metadata": {
    "colab": {
     "base_uri": "https://localhost:8080/"
    },
    "id": "PjJfplx6IqBz",
    "outputId": "9ec0a84e-6b5c-4454-b495-9dc345d20de4"
   },
   "outputs": [],
   "source": [
    "print(\"--- Performing Louvain Clustering ---\")\n",
    "sc.tl.louvain(adata, key_added=\"louvain\")"
   ]
  },
  {
   "cell_type": "markdown",
   "metadata": {
    "id": "wHyOSJ9VIsWv"
   },
   "source": [
    "##### d. BIRCH Clustering"
   ]
  },
  {
   "cell_type": "code",
   "execution_count": null,
   "metadata": {
    "colab": {
     "base_uri": "https://localhost:8080/"
    },
    "id": "-hvlpbm2Ixfm",
    "outputId": "f0c466ac-0704-41d0-83cb-057cf8ef9cba"
   },
   "outputs": [],
   "source": [
    "print(\"--- Performing BIRCH Clustering ---\")\n",
    "birch = Birch(n_clusters=len(adata.obs['cluster'].unique())).fit(adata.obsm['X_pca'])\n",
    "adata.obs['birch'] = birch.labels_.astype(str)\n",
    "\n",
    "print(\"\\n=== Multiple clustering methods completed. ===\")"
   ]
  },
  {
   "cell_type": "markdown",
   "metadata": {
    "id": "Iql_zWmVI014"
   },
   "source": [
    "##### ==============================================================================\n",
    "##### PART 3: Data Visualization and Clustering Performance Evaluation\n",
    "##### =============================================================================="
   ]
  },
  {
   "cell_type": "code",
   "execution_count": null,
   "metadata": {
    "id": "7KmZrvi5I_Uu"
   },
   "outputs": [],
   "source": [
    "keys_to_delete = ['leiden_colors', 'kmeans_colors', 'louvain_colors', 'birch_colors']\n",
    "for key in keys_to_delete:\n",
    "    if key in adata.uns:\n",
    "        del adata.uns[key]"
   ]
  },
  {
   "cell_type": "markdown",
   "metadata": {
    "id": "V9o3ky2VJKT4"
   },
   "source": [
    "#### 1. Visualization Comparison"
   ]
  },
  {
   "cell_type": "code",
   "execution_count": null,
   "metadata": {
    "colab": {
     "base_uri": "https://localhost:8080/",
     "height": 601
    },
    "id": "ouq4BUOJJOOZ",
    "outputId": "521436e3-acf6-4f74-dc49-03fda910183d"
   },
   "outputs": [],
   "source": [
    "print(\"\\n--- Visualization Comparison ---\")\n",
    "sc.pl.umap(adata, color=['cluster', 'leiden', 'kmeans', 'louvain', 'birch'],\n",
    "           title=['Ground Truth', 'Leiden', 'K-Means', 'Louvain', 'BIRCH'],\n",
    "           save=\"_umap_comparison.png\")\n",
    "plt.show()\n",
    "\n"
   ]
  },
  {
   "cell_type": "code",
   "execution_count": null,
   "metadata": {
    "colab": {
     "base_uri": "https://localhost:8080/",
     "height": 772
    },
    "id": "tuw2Bw1tJY83",
    "outputId": "f7cabd63-6c80-443a-a2a2-0fff287ca918"
   },
   "outputs": [],
   "source": [
    "sq.pl.spatial_scatter(adata, color=['cluster', 'leiden', 'kmeans', 'louvain', 'birch'],\n",
    "                      title=['Ground Truth', 'Leiden', 'K-Means', 'Louvain', 'BIRCH'],\n",
    "                      save=\"_spatial_comparison.png\", ncols=3)\n",
    "plt.show()"
   ]
  },
  {
   "cell_type": "markdown",
   "metadata": {
    "id": "ouxUReSgJcDo"
   },
   "source": [
    "#### 2. Quantitative Evaluation Comparison"
   ]
  },
  {
   "cell_type": "code",
   "execution_count": null,
   "metadata": {
    "colab": {
     "base_uri": "https://localhost:8080/"
    },
    "id": "cR0E4COHJdeQ",
    "outputId": "91382c43-e26b-4667-8b65-8dc910ceb290"
   },
   "outputs": [],
   "source": [
    "print(\"\\n--- Quantitative Evaluation Comparison ---\")\n",
    "ground_truth_labels = adata.obs['cluster']\n",
    "leiden_labels = adata.obs['leiden']\n",
    "kmeans_labels = adata.obs['kmeans']\n",
    "louvain_labels = adata.obs['louvain']\n",
    "birch_labels = adata.obs['birch']"
   ]
  },
  {
   "cell_type": "code",
   "execution_count": null,
   "metadata": {
    "id": "FGbt5ixxJxwL"
   },
   "outputs": [],
   "source": [
    "# Calculate ARI (Adjusted Rand Index)\n",
    "ari_leiden = adjusted_rand_score(ground_truth_labels, leiden_labels)\n",
    "ari_kmeans = adjusted_rand_score(ground_truth_labels, kmeans_labels)\n",
    "ari_louvain = adjusted_rand_score(ground_truth_labels, louvain_labels)\n",
    "ari_birch = adjusted_rand_score(ground_truth_labels, birch_labels)"
   ]
  },
  {
   "cell_type": "code",
   "execution_count": null,
   "metadata": {
    "id": "wVuh-hsOJ0d0"
   },
   "outputs": [],
   "source": [
    "# Calculate NMI (Normalized Mutual Information)\n",
    "nmi_leiden = normalized_mutual_info_score(ground_truth_labels, leiden_labels)\n",
    "nmi_kmeans = normalized_mutual_info_score(ground_truth_labels, kmeans_labels)\n",
    "nmi_louvain = normalized_mutual_info_score(ground_truth_labels, louvain_labels)\n",
    "nmi_birch = normalized_mutual_info_score(ground_truth_labels, birch_labels)"
   ]
  },
  {
   "cell_type": "code",
   "execution_count": null,
   "metadata": {
    "colab": {
     "base_uri": "https://localhost:8080/"
    },
    "id": "_1S7CsGVJ26z",
    "outputId": "83c7b169-c146-48e2-c66f-b7afc2c49b25"
   },
   "outputs": [],
   "source": [
    "# Create a DataFrame for the evaluation results\n",
    "evaluation_df = pd.DataFrame({\n",
    "    'Method': ['Leiden', 'K-Means', 'Louvain', 'BIRCH'],\n",
    "    'ARI': [ari_leiden, ari_kmeans, ari_louvain, ari_birch],\n",
    "    'NMI': [nmi_leiden, nmi_kmeans, nmi_louvain, nmi_birch]\n",
    "})\n",
    "\n",
    "print(\"\\nClustering Performance Evaluation Results:\")\n",
    "print(evaluation_df)"
   ]
  },
  {
   "cell_type": "code",
   "execution_count": null,
   "metadata": {
    "colab": {
     "base_uri": "https://localhost:8080/",
     "height": 641
    },
    "id": "8aQg_DjXJ5Yl",
    "outputId": "5a6fdbcf-41a2-4fc7-c8e5-9de5c52f004c"
   },
   "outputs": [],
   "source": [
    "# Plot a bar chart of the evaluation metrics\n",
    "evaluation_df.plot(x='Method', y=['ARI', 'NMI'], kind='bar', figsize=(10, 7), grid=True)\n",
    "plt.title('Clustering Method Evaluation')\n",
    "plt.ylabel('Score')\n",
    "plt.xticks(rotation=0)\n",
    "plt.savefig('figures/evaluation_barplot.png')\n",
    "plt.show()"
   ]
  }
 ],
 "metadata": {
  "accelerator": "GPU",
  "colab": {
   "gpuType": "T4",
   "provenance": []
  },
  "kernelspec": {
   "display_name": "Python 3",
   "name": "python3"
  },
  "language_info": {
   "name": "python"
  }
 },
 "nbformat": 4,
 "nbformat_minor": 0
}
